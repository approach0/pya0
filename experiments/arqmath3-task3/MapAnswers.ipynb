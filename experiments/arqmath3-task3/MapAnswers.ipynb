{
 "cells": [
  {
   "cell_type": "code",
   "execution_count": 8,
   "id": "c7ade5e5",
   "metadata": {},
   "outputs": [],
   "source": [
    "from bs4 import BeautifulSoup\n",
    "from xmlr import xmliter\n",
    "import tqdm\n",
    "import re\n",
    "import json\n",
    "import pickle"
   ]
  },
  {
   "cell_type": "code",
   "execution_count": 13,
   "id": "273ccb59",
   "metadata": {},
   "outputs": [
    {
     "name": "stderr",
     "output_type": "stream",
     "text": [
      "257022it [00:01, 168370.41it/s]\n"
     ]
    }
   ],
   "source": [
    "xml = \"./PostLinks.V1.3.xml\"\n",
    "# {'@Id': '11217966', '@CreationDate': '2013-02-18T03:03:17.867', \n",
    "# '@PostId': '114876', '@RelatedPostId': '21688', '@LinkTypeId': '3'}\n",
    "\n",
    "# the link type: [1:related, 3:duplicate]\n",
    "duplicate_map = {}\n",
    "for attr in tqdm.tqdm(xmliter(xml, \"row\")):\n",
    "    if attr[\"@LinkTypeId\"] == \"3\":\n",
    "        pid = attr[\"@PostId\"]\n",
    "        dpid = attr[\"@RelatedPostId\"]\n",
    "        duplicate_map[pid] = dpid\n",
    "    elif attr[\"@LinkTypeId\"] == \"1\":\n",
    "        pass\n",
    "    else:\n",
    "        assert False\n",
    "\n",
    "pickle.dump(duplicate_map, open(\"duplicate_map.pkl\", 'wb'))"
   ]
  },
  {
   "cell_type": "code",
   "execution_count": 16,
   "id": "dd36f5a8",
   "metadata": {},
   "outputs": [
    {
     "name": "stderr",
     "output_type": "stream",
     "text": [
      "2466080it [01:14, 33314.95it/s]"
     ]
    },
    {
     "name": "stdout",
     "output_type": "stream",
     "text": [
      "0\n"
     ]
    },
    {
     "name": "stderr",
     "output_type": "stream",
     "text": [
      "\n"
     ]
    }
   ],
   "source": [
    "xml = \"./Posts.V1.3.xml\"\n",
    "question_posts = {}\n",
    "answer_posts = {}\n",
    "skip_count = 0\n",
    "for attr in tqdm.tqdm(xmliter(xml, \"row\")):\n",
    "#question post\n",
    "# {'@Id': '1', '@PostTypeId': '1', \n",
    "#'@CreationDate': '2010-07-20T19:09:27.200', \n",
    "#'@ViewCount': '8695', '@Score': '155', '@CommentCount': '0', \n",
    "#'@OwnerUserId': '10', \n",
    "#'@Title': 'What Does it Really Mean to Have Different Kinds of Infinities?', \n",
    "#'@Body': '<p>Can someone explain to me how there can be different kinds of infinities?</p>  <p>I was reading \"<a href=\"http://en.wikipedia.org/wiki/The_Man_Who_Loved_Only_Numbers\" rel=\"noreferrer\">The man who loved only numbers</a>\" by <a href=\"http://en.wikipedia.org/wiki/Paul_Hoffman_(science_writer)\" rel=\"noreferrer\">Paul Hoffman</a> and came across the concept of countable and uncountable infinities, but they\\'re only words to me.</p>  <p>Any help would be appreciated.</p> ', \n",
    "#'@AnswerCount': '9', '@AcceptedAnswerId': '9', '@Tags': '<elementary-set-theory><intuition><infinity><faq>'}\n",
    "\n",
    "#answer post\n",
    "#<row Id=\"4\" PostTypeId=\"2\" \n",
    "#CreationDate=\"2010-07-20T19:14:10.603\" Score=\"11\" CommentCount=\"1\" \n",
    "#OwnerUserId=\"31\" \n",
    "#Body=\"&lt;p&gt;&lt;a href=&quot;http://www.bbc.co.uk/podcasts/series/moreorless&quot; rel=&quot;noreferrer&quot;&gt;More or Less&lt;/a&gt; is a BBC Radio 4 programme about maths and statistics in the news, and there is a free podcast. It's presented by &lt;a href=&quot;http://timharford.com/&quot; rel=&quot;noreferrer&quot;&gt;Tim Harford&lt;/a&gt;, the Undercover Economist from the &lt;a href=&quot;http://www.ft.com/home/uk&quot; rel=&quot;noreferrer&quot;&gt;Financial Times&lt;/a&gt;.&lt;/p&gt; \" \n",
    "#ParentId=\"3\"/>\n",
    "    attrs = {}\n",
    "    for k in attr:\n",
    "        attrs[k.replace(\"@\",\"\")] = attr[k]\n",
    "    ptype = attrs[\"PostTypeId\"]\n",
    "    if ptype == \"1\": # Question\n",
    "        qid = attrs[\"Id\"]\n",
    "        question_posts[qid] = {\n",
    "            \"accept_aid\":attrs[\"AcceptedAnswerId\"] if \"AcceptedAnswerId\" in attrs else None,\n",
    "            \"answers\": []\n",
    "        }\n",
    "    elif ptype == \"2\": # Answer\n",
    "        aid = attrs[\"Id\"]\n",
    "        answer_posts[aid] = {\n",
    "            \"body\": attrs[\"Body\"],\n",
    "            \"pid\": attrs[\"ParentId\"],\n",
    "            \"score\": attrs[\"Score\"],\n",
    "        }\n",
    "    else:\n",
    "        skip_count += 1\n",
    "        \n",
    "print(skip_count)"
   ]
  },
  {
   "cell_type": "code",
   "execution_count": 17,
   "id": "09d94e87",
   "metadata": {},
   "outputs": [],
   "source": [
    "pickle.dump(answer_posts, open(\"answer_posts.pkl\", 'wb'))\n",
    "pickle.dump(question_posts, open(\"question_posts.pkl\", 'wb'))"
   ]
  },
  {
   "cell_type": "code",
   "execution_count": 34,
   "id": "f2e825e6",
   "metadata": {},
   "outputs": [],
   "source": [
    "answer_posts = pickle.load(open(\"answer_posts.pkl\", 'rb'))"
   ]
  },
  {
   "cell_type": "code",
   "execution_count": 37,
   "id": "bea28a37",
   "metadata": {},
   "outputs": [],
   "source": [
    "question_posts = pickle.load(open(\"question_posts.pkl\", 'rb'))"
   ]
  },
  {
   "cell_type": "code",
   "execution_count": 18,
   "id": "5b649de7",
   "metadata": {},
   "outputs": [
    {
     "name": "stderr",
     "output_type": "stream",
     "text": [
      "100%|█████████████████████████████████████████████████████████████████████████████████████████████████████████████████████████| 1445495/1445495 [00:01<00:00, 1433633.01it/s]\n"
     ]
    }
   ],
   "source": [
    "missing_qid = []\n",
    "for aid in tqdm.tqdm(answer_posts):\n",
    "#     print(ap)\n",
    "    qid = answer_posts[aid][\"pid\"]\n",
    "    if qid in question_posts:\n",
    "        question_posts[qid][\"answers\"].append(aid)\n",
    "    else:\n",
    "        missing_qid.append(qid)"
   ]
  },
  {
   "cell_type": "code",
   "execution_count": 19,
   "id": "ebf201d3",
   "metadata": {},
   "outputs": [],
   "source": [
    "pickle.dump(question_posts, open(\"question_posts.pkl\", 'wb'))"
   ]
  },
  {
   "cell_type": "code",
   "execution_count": 22,
   "id": "6d03420d",
   "metadata": {},
   "outputs": [
    {
     "name": "stderr",
     "output_type": "stream",
     "text": [
      "100%|█████████████████████████████████████████████████████████████████████████████████████████████████████████████████████████| 1020585/1020585 [00:00<00:00, 2091215.94it/s]\n"
     ]
    }
   ],
   "source": [
    "for qid in tqdm.tqdm(question_posts):\n",
    "    # for all questions without accepted answer, find its duplicate qustion accept answer if possible.\n",
    "    if not question_posts[qid][\"accept_aid\"] and qid in duplicate_map:\n",
    "        dqid = duplicate_map[qid]\n",
    "        if dqid in question_posts and question_posts[dqid][\"accept_aid\"]:\n",
    "            question_posts[qid][\"accept_aid\"] = question_posts[dqid][\"accept_aid\"]\n",
    "    "
   ]
  },
  {
   "cell_type": "code",
   "execution_count": 31,
   "id": "372c930c",
   "metadata": {},
   "outputs": [
    {
     "name": "stderr",
     "output_type": "stream",
     "text": [
      "100%|██████████████████████████████████████████████████████████████████████████████████████████████████████████████████████████| 1020585/1020585 [00:01<00:00, 751830.33it/s]\n"
     ]
    }
   ],
   "source": [
    "for qid in tqdm.tqdm(question_posts):\n",
    "    max_score = 0\n",
    "    question_posts[qid][\"best_answer\"] = None\n",
    "    for aid in question_posts[qid][\"answers\"]:\n",
    "        score = float(answer_posts[aid][\"score\"])\n",
    "        if score > max_score:\n",
    "            question_posts[qid][\"best_answer\"] = aid\n",
    "            max_score = score\n",
    "    "
   ]
  },
  {
   "cell_type": "code",
   "execution_count": 32,
   "id": "e27e9061",
   "metadata": {},
   "outputs": [],
   "source": [
    "pickle.dump(question_posts, open(\"question_posts.pkl\", 'wb'))\n"
   ]
  },
  {
   "cell_type": "code",
   "execution_count": 33,
   "id": "b2626b1a",
   "metadata": {},
   "outputs": [
    {
     "name": "stderr",
     "output_type": "stream",
     "text": [
      "100%|██████████████████████████████████████████████████████████████████████████████████████████████████████████████████████████| 1445495/1445495 [00:02<00:00, 706756.65it/s]\n"
     ]
    }
   ],
   "source": [
    "aid2best_aid = {}\n",
    "for aid in tqdm.tqdm(answer_posts):\n",
    "    qid = answer_posts[aid][\"pid\"]\n",
    "    if qid in question_posts:\n",
    "        best_aid = question_posts[qid][\"accept_aid\"] or question_posts[qid][\"best_answer\"]\n",
    "        aid2best_aid[aid] = best_aid if (best_aid and len(best_aid) > 0) else None\n",
    "        if aid2best_aid[aid] is None or aid2best_aid[aid] not in answer_posts:\n",
    "            continue\n",
    "        if float(answer_posts[aid2best_aid[aid]][\"score\"]) < 2:\n",
    "            aid2best_aid[aid] = None\n",
    "    else:\n",
    "        aid2best_aid[aid] = None\n"
   ]
  },
  {
   "cell_type": "code",
   "execution_count": 34,
   "id": "0e898384",
   "metadata": {},
   "outputs": [],
   "source": [
    "pickle.dump(aid2best_aid, open(\"aid2bestgt1_aid.pkl\", 'wb'))"
   ]
  },
  {
   "cell_type": "code",
   "execution_count": null,
   "id": "234288c4",
   "metadata": {},
   "outputs": [],
   "source": []
  }
 ],
 "metadata": {
  "kernelspec": {
   "display_name": "Python 3 (ipykernel)",
   "language": "python",
   "name": "python3"
  },
  "language_info": {
   "codemirror_mode": {
    "name": "ipython",
    "version": 3
   },
   "file_extension": ".py",
   "mimetype": "text/x-python",
   "name": "python",
   "nbconvert_exporter": "python",
   "pygments_lexer": "ipython3",
   "version": "3.8.8"
  }
 },
 "nbformat": 4,
 "nbformat_minor": 5
}
