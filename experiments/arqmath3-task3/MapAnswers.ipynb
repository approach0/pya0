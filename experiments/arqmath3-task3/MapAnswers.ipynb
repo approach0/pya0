{
 "cells": [
  {
   "cell_type": "code",
   "execution_count": 35,
   "id": "c7ade5e5",
   "metadata": {},
   "outputs": [],
   "source": [
    "from bs4 import BeautifulSoup\n",
    "from xmlr import xmliter\n",
    "import tqdm\n",
    "import re\n",
    "import json\n",
    "import pickle\n",
    "from collections import defaultdict"
   ]
  },
  {
   "cell_type": "code",
   "execution_count": 39,
   "id": "273ccb59",
   "metadata": {},
   "outputs": [
    {
     "name": "stderr",
     "output_type": "stream",
     "text": [
      "257022it [00:01, 184099.11it/s]\n"
     ]
    }
   ],
   "source": [
    "xml = \"./PostLinks.V1.3.xml\"\n",
    "# {'@Id': '11217966', '@CreationDate': '2013-02-18T03:03:17.867', \n",
    "# '@PostId': '114876', '@RelatedPostId': '21688', '@LinkTypeId': '3'}\n",
    "\n",
    "# the link type: [1:related, 3:duplicate]\n",
    "duplicate_map = defaultdict(list)\n",
    "for attr in tqdm.tqdm(xmliter(xml, \"row\")):\n",
    "    if attr[\"@LinkTypeId\"] == \"3\":\n",
    "        pid = attr[\"@PostId\"]\n",
    "        dpid = attr[\"@RelatedPostId\"]\n",
    "        duplicate_map[pid].append(dpid)\n",
    "    elif attr[\"@LinkTypeId\"] == \"1\":\n",
    "        pass\n",
    "    else:\n",
    "        assert False\n",
    "\n",
    "pickle.dump(duplicate_map, open(\"duplicate_map.pkl\", 'wb'))"
   ]
  },
  {
   "cell_type": "code",
   "execution_count": 6,
   "id": "dd36f5a8",
   "metadata": {},
   "outputs": [
    {
     "name": "stderr",
     "output_type": "stream",
     "text": [
      "2466080it [01:11, 34687.97it/s]"
     ]
    },
    {
     "name": "stdout",
     "output_type": "stream",
     "text": [
      "0\n"
     ]
    },
    {
     "name": "stderr",
     "output_type": "stream",
     "text": [
      "\n"
     ]
    }
   ],
   "source": [
    "xml = \"./Posts.V1.3.xml\"\n",
    "question_posts = {}\n",
    "answer_posts = {}\n",
    "skip_count = 0\n",
    "for attr in tqdm.tqdm(xmliter(xml, \"row\")):\n",
    "#question post\n",
    "# {'@Id': '1', '@PostTypeId': '1', \n",
    "#'@CreationDate': '2010-07-20T19:09:27.200', \n",
    "#'@ViewCount': '8695', '@Score': '155', '@CommentCount': '0', \n",
    "#'@OwnerUserId': '10', \n",
    "#'@Title': 'What Does it Really Mean to Have Different Kinds of Infinities?', \n",
    "#'@Body': '<p>Can someone explain to me how there can be different kinds of infinities?</p>  <p>I was reading \"<a href=\"http://en.wikipedia.org/wiki/The_Man_Who_Loved_Only_Numbers\" rel=\"noreferrer\">The man who loved only numbers</a>\" by <a href=\"http://en.wikipedia.org/wiki/Paul_Hoffman_(science_writer)\" rel=\"noreferrer\">Paul Hoffman</a> and came across the concept of countable and uncountable infinities, but they\\'re only words to me.</p>  <p>Any help would be appreciated.</p> ', \n",
    "#'@AnswerCount': '9', '@AcceptedAnswerId': '9', '@Tags': '<elementary-set-theory><intuition><infinity><faq>'}\n",
    "\n",
    "#answer post\n",
    "#<row Id=\"4\" PostTypeId=\"2\" \n",
    "#CreationDate=\"2010-07-20T19:14:10.603\" Score=\"11\" CommentCount=\"1\" \n",
    "#OwnerUserId=\"31\" \n",
    "#Body=\"&lt;p&gt;&lt;a href=&quot;http://www.bbc.co.uk/podcasts/series/moreorless&quot; rel=&quot;noreferrer&quot;&gt;More or Less&lt;/a&gt; is a BBC Radio 4 programme about maths and statistics in the news, and there is a free podcast. It's presented by &lt;a href=&quot;http://timharford.com/&quot; rel=&quot;noreferrer&quot;&gt;Tim Harford&lt;/a&gt;, the Undercover Economist from the &lt;a href=&quot;http://www.ft.com/home/uk&quot; rel=&quot;noreferrer&quot;&gt;Financial Times&lt;/a&gt;.&lt;/p&gt; \" \n",
    "#ParentId=\"3\"/>\n",
    "    attrs = {}\n",
    "    for k in attr:\n",
    "        attrs[k.replace(\"@\",\"\")] = attr[k]\n",
    "    ptype = attrs[\"PostTypeId\"]\n",
    "    if ptype == \"1\": # Question\n",
    "        qid = attrs[\"Id\"]\n",
    "        question_posts[qid] = {\n",
    "            \"accept_aid\":attrs[\"AcceptedAnswerId\"] if \"AcceptedAnswerId\" in attrs else None,\n",
    "            \"answers\": []\n",
    "        }\n",
    "    elif ptype == \"2\": # Answer\n",
    "        aid = attrs[\"Id\"]\n",
    "        answer_posts[aid] = {\n",
    "            \"body\": attrs[\"Body\"],\n",
    "            \"pid\": attrs[\"ParentId\"],\n",
    "            \"score\": attrs[\"Score\"],\n",
    "        }\n",
    "    else:\n",
    "        skip_count += 1\n",
    "        \n",
    "print(skip_count)"
   ]
  },
  {
   "cell_type": "code",
   "execution_count": 7,
   "id": "09d94e87",
   "metadata": {},
   "outputs": [],
   "source": [
    "pickle.dump(answer_posts, open(\"answer_posts.pkl\", 'wb'))\n",
    "pickle.dump(question_posts, open(\"question_posts.pkl\", 'wb'))"
   ]
  },
  {
   "cell_type": "code",
   "execution_count": 40,
   "id": "f2e825e6",
   "metadata": {},
   "outputs": [],
   "source": [
    "# Check point here\n",
    "duplicate_map = pickle.load(open('duplicate_map.pkl', 'rb'))\n",
    "answer_posts = pickle.load(open(\"answer_posts.pkl\", 'rb'))\n",
    "question_posts = pickle.load(open(\"question_posts.pkl\", 'rb'))"
   ]
  },
  {
   "cell_type": "code",
   "execution_count": 42,
   "id": "5b649de7",
   "metadata": {},
   "outputs": [
    {
     "name": "stderr",
     "output_type": "stream",
     "text": [
      "100%|█████████████████████████████████████████████████████████████████████████████████████████████████████████████████████████| 1445495/1445495 [00:01<00:00, 1312077.58it/s]"
     ]
    },
    {
     "name": "stdout",
     "output_type": "stream",
     "text": [
      "8\n"
     ]
    },
    {
     "name": "stderr",
     "output_type": "stream",
     "text": [
      "\n"
     ]
    }
   ],
   "source": [
    "missing_qid = []\n",
    "for aid in tqdm.tqdm(answer_posts):\n",
    "    qid = answer_posts[aid][\"pid\"]\n",
    "    if qid in question_posts:\n",
    "        question_posts[qid][\"answers\"].append(aid)\n",
    "    else:\n",
    "        missing_qid.append(qid)\n",
    "print(len(missing_qid))"
   ]
  },
  {
   "cell_type": "code",
   "execution_count": 44,
   "id": "6d03420d",
   "metadata": {},
   "outputs": [
    {
     "name": "stderr",
     "output_type": "stream",
     "text": [
      "100%|██████████████████████████████████████████████████████████████████████████████████████████████████████████████████████████| 1020585/1020585 [00:02<00:00, 404577.21it/s]\n"
     ]
    }
   ],
   "source": [
    "for qid in tqdm.tqdm(question_posts):\n",
    "    # for all questions without accepted answer, find its duplicate qustion accept answer if possible.\n",
    "    current_accept = question_posts[qid][\"accept_aid\"]\n",
    "    question_posts[qid][\"all_accept_aid\"] = [current_accept] if current_accept else []\n",
    "    if qid in duplicate_map:\n",
    "        for dqid in duplicate_map[qid]:\n",
    "            if dqid in question_posts :\n",
    "                dup_accept = question_posts[dqid][\"accept_aid\"]\n",
    "                question_posts[qid][\"all_accept_aid\"].append(dup_accept)\n",
    "    "
   ]
  },
  {
   "cell_type": "code",
   "execution_count": 45,
   "id": "372c930c",
   "metadata": {},
   "outputs": [
    {
     "name": "stderr",
     "output_type": "stream",
     "text": [
      "100%|██████████████████████████████████████████████████████████████████████████████████████████████████████████████████████████| 1020585/1020585 [00:02<00:00, 380870.76it/s]\n"
     ]
    }
   ],
   "source": [
    "for qid in tqdm.tqdm(question_posts):\n",
    "    max_score = 0\n",
    "    question_posts[qid][\"best_answer\"] = None\n",
    "    for aid in question_posts[qid][\"answers\"]:\n",
    "        score = float(answer_posts[aid][\"score\"])\n",
    "        if score > max_score:\n",
    "            question_posts[qid][\"best_answer\"] = aid\n",
    "            max_score = score\n",
    "    "
   ]
  },
  {
   "cell_type": "code",
   "execution_count": 46,
   "id": "e27e9061",
   "metadata": {},
   "outputs": [],
   "source": [
    "pickle.dump(question_posts, open(\"question_posts.pkl\", 'wb'))"
   ]
  },
  {
   "cell_type": "code",
   "execution_count": 50,
   "id": "b2626b1a",
   "metadata": {},
   "outputs": [
    {
     "name": "stderr",
     "output_type": "stream",
     "text": [
      "100%|██████████████████████████████████████████████████████████████████████████████████████████████████████████████████████████| 1445495/1445495 [00:02<00:00, 659323.14it/s]"
     ]
    },
    {
     "name": "stdout",
     "output_type": "stream",
     "text": [
      "1445495 0.17328100527431414\n"
     ]
    },
    {
     "name": "stderr",
     "output_type": "stream",
     "text": [
      "\n"
     ]
    }
   ],
   "source": [
    "aid2best_aid = {}\n",
    "dummy_cnt = 0\n",
    "for aid in tqdm.tqdm(answer_posts):\n",
    "    qid = answer_posts[aid][\"pid\"]\n",
    "    if qid in question_posts:\n",
    "        all_accept_aid = question_posts[qid][\"all_accept_aid\"]\n",
    "        if len(all_accept_aid) > 0:\n",
    "            best_aid = all_accept_aid[0]\n",
    "        else:\n",
    "            best_aid = question_posts[qid][\"best_answer\"]\n",
    "        aid2best_aid[aid] = best_aid if (best_aid and len(best_aid) > 0) else None\n",
    "        if aid2best_aid[aid] is None or aid2best_aid[aid] not in answer_posts:\n",
    "            # no \"best\" answer or its \"best\" answer has no record in train dataset.\n",
    "            aid2best_aid[aid] = None\n",
    "            dummy_cnt += 1\n",
    "        elif question_posts[qid][\"accept_aid\"] is None and float(answer_posts[aid2best_aid[aid]][\"score\"]) < 2:\n",
    "            # the \"best\" answer is from highly voted post, but the upvote is not very sufficient.\n",
    "            aid2best_aid[aid] = None\n",
    "            dummy_cnt += 1\n",
    "    else:\n",
    "        aid2best_aid[aid] = None\n",
    "        dummy_cnt += 1\n",
    "print(len(aid2best_aid), dummy_cnt / (len(aid2best_aid) + 1))"
   ]
  },
  {
   "cell_type": "code",
   "execution_count": 51,
   "id": "0e898384",
   "metadata": {},
   "outputs": [],
   "source": [
    "pickle.dump(aid2best_aid, open(\"aid2bestgt1_aid.pkl\", 'wb'))"
   ]
  },
  {
   "cell_type": "code",
   "execution_count": 52,
   "id": "234288c4",
   "metadata": {
    "scrolled": true
   },
   "outputs": [
    {
     "name": "stdout",
     "output_type": "stream",
     "text": [
      "4 328809\n",
      "7 7\n",
      "9 9\n",
      "13 9\n",
      "14 9\n",
      "15 281\n",
      "16 7\n",
      "17 17\n",
      "24 17\n",
      "26 17\n",
      "30 49\n",
      "31 49\n",
      "35 9\n",
      "38 1572\n",
      "40 40\n",
      "41 49\n",
      "42 53\n",
      "43 49\n",
      "44 49\n",
      "47 1572\n",
      "48 40\n",
      "49 49\n",
      "52 9\n",
      "53 53\n",
      "54 40\n",
      "55 1572\n",
      "60 49\n"
     ]
    }
   ],
   "source": [
    "with open(\"aid2bestgt1_aid.pkl\", 'rb') as fh:\n",
    "    aid2best_aid = pickle.load(fh)\n",
    "for i, key in enumerate(aid2best_aid.keys()):\n",
    "    print(key, aid2best_aid[key])\n",
    "    if i > 25: break"
   ]
  },
  {
   "cell_type": "code",
   "execution_count": 53,
   "id": "24629d38",
   "metadata": {},
   "outputs": [
    {
     "name": "stdout",
     "output_type": "stream",
     "text": [
      "{'body': '<p>Lots of people like to use <a href=\"http://instacalc.com/\">Instacalc</a> which lets you do unit conversions and store intermediate calculations in variables.</p> ', 'pid': '29', 'score': '7'}\n",
      "1572\n",
      "1572\n"
     ]
    }
   ],
   "source": [
    "# Case when we have accepted answer just in the current thread\n",
    "print(answer_posts['38'])\n",
    "print(question_posts['29'][\"accept_aid\"])\n",
    "print(aid2best_aid['38'])"
   ]
  },
  {
   "cell_type": "code",
   "execution_count": 54,
   "id": "4cbfdded",
   "metadata": {},
   "outputs": [
    {
     "name": "stdout",
     "output_type": "stream",
     "text": [
      "{'body': '<p><a href=\"http://www.bbc.co.uk/podcasts/series/moreorless\" rel=\"noreferrer\">More or Less</a> is a BBC Radio 4 programme about maths and statistics in the news, and there is a free podcast. It\\'s presented by <a href=\"http://timharford.com/\" rel=\"noreferrer\">Tim Harford</a>, the Undercover Economist from the <a href=\"http://www.ft.com/home/uk\" rel=\"noreferrer\">Financial Times</a>.</p> ', 'pid': '3', 'score': '11'}\n",
      "None\n",
      "328809\n"
     ]
    }
   ],
   "source": [
    "# Case when there is not any accepted answer in the current thread and linked thread(s).\n",
    "print(answer_posts['4'])\n",
    "print(question_posts['3'][\"accept_aid\"])\n",
    "print(aid2best_aid['4'])"
   ]
  },
  {
   "cell_type": "code",
   "execution_count": 55,
   "id": "0b3fb7c6",
   "metadata": {},
   "outputs": [
    {
     "name": "stdout",
     "output_type": "stream",
     "text": [
      "{'body': '<p>If it is just <span class=\"math-container\" id=\"9014\">45</span> degrees, then the answer is not very difficult. Center a coordinate system at the bottom left hand corner of the rectangle. Hence the coordinates of the (???) point are <span class=\"math-container\" id=\"9015\">(q,0)</span> for some <span class=\"math-container\" id=\"9016\">q&lt;w</span>.</p>  <p>Note that the because theta is <span class=\"math-container\" id=\"9017\">45</span> degrees, <span class=\"math-container\" id=\"9018\">y=w-q</span> (Isosceles right triangle). Hence <span class=\"math-container\" id=\"9019\">q=w-y</span>, and our point is simply <span class=\"math-container\" id=\"9020\">(w-y, 0)\\\\dots</span></p> ', 'pid': '874', 'score': '1'}\n",
      "None\n",
      "None\n"
     ]
    }
   ],
   "source": [
    "# Case when the \"best\" answer is from highly voted post, but the upvote is not very sufficient.\n",
    "print(answer_posts['889'])\n",
    "print(question_posts['874'][\"accept_aid\"])\n",
    "print(aid2best_aid['889'])"
   ]
  },
  {
   "cell_type": "code",
   "execution_count": null,
   "id": "533d9100",
   "metadata": {},
   "outputs": [],
   "source": []
  }
 ],
 "metadata": {
  "kernelspec": {
   "display_name": "Python 3 (ipykernel)",
   "language": "python",
   "name": "python3"
  },
  "language_info": {
   "codemirror_mode": {
    "name": "ipython",
    "version": 3
   },
   "file_extension": ".py",
   "mimetype": "text/x-python",
   "name": "python",
   "nbconvert_exporter": "python",
   "pygments_lexer": "ipython3",
   "version": "3.8.8"
  }
 },
 "nbformat": 4,
 "nbformat_minor": 5
}
